{
  "nbformat": 4,
  "nbformat_minor": 0,
  "metadata": {
    "colab": {
      "private_outputs": true,
      "provenance": [],
      "collapsed_sections": [
        "vncDsAP0Gaoa",
        "FJNUwmbgGyua",
        "w6K7xa23Elo4",
        "yQaldy8SH6Dl",
        "mDgbUHAGgjLW",
        "O_i_v8NEhb9l",
        "HhfV-JJviCcP",
        "Y3lxredqlCYt",
        "3RnN4peoiCZX",
        "x71ZqKXriCWQ",
        "7hBIi_osiCS2",
        "JlHwYmJAmNHm",
        "35m5QtbWiB9F",
        "PoPl-ycgm1ru",
        "H0kj-8xxnORC",
        "nA9Y7ga8ng1Z",
        "PBTbrJXOngz2",
        "u3PMJOP6ngxN",
        "dauF4eBmngu3",
        "bKJF3rekwFvQ",
        "MSa1f5Uengrz",
        "GF8Ens_Soomf",
        "0wOQAZs5pc--",
        "K5QZ13OEpz2H",
        "lQ7QKXXCp7Bj",
        "448CDAPjqfQr",
        "KSlN3yHqYklG",
        "t6dVpIINYklI",
        "ijmpgYnKYklI",
        "-JiQyfWJYklI",
        "EM7whBJCYoAo",
        "fge-S5ZAYoAp",
        "85gYPyotYoAp",
        "RoGjAbkUYoAp",
        "4Of9eVA-YrdM",
        "iky9q4vBYrdO",
        "F6T5p64dYrdO",
        "y-Ehk30pYrdP",
        "bamQiAODYuh1",
        "QHF8YVU7Yuh3",
        "GwzvFGzlYuh3",
        "qYpmQ266Yuh3",
        "OH-pJp9IphqM",
        "bbFf2-_FphqN",
        "_ouA3fa0phqN",
        "Seke61FWphqN",
        "PIIx-8_IphqN",
        "t27r6nlMphqO",
        "r2jJGEOYphqO",
        "b0JNsNcRphqO",
        "BZR9WyysphqO",
        "jj7wYXLtphqO",
        "eZrbJ2SmphqO",
        "rFu4xreNphqO",
        "YJ55k-q6phqO",
        "gCFgpxoyphqP",
        "OVtJsKN_phqQ",
        "lssrdh5qphqQ",
        "U2RJ9gkRphqQ",
        "1M8mcRywphqQ",
        "tgIPom80phqQ",
        "JMzcOPDDphqR",
        "x-EpHcCOp1ci",
        "X_VqEhTip1ck",
        "8zGJKyg5p1ck",
        "PVzmfK_Ep1ck",
        "n3dbpmDWp1ck",
        "ylSl6qgtp1ck",
        "ZWILFDl5p1ck",
        "M7G43BXep1ck",
        "Ag9LCva-p1cl",
        "E6MkPsBcp1cl",
        "2cELzS2fp1cl",
        "3MPXvC8up1cl",
        "NC_X3p0fY2L0",
        "UV0SzAkaZNRQ",
        "YPEH6qLeZNRQ",
        "q29F0dvdveiT",
        "EXh0U9oCveiU",
        "22aHeOlLveiV",
        "g-ATYxFrGrvw",
        "Yfr_Vlr8HBkt",
        "8yEUt7NnHlrM",
        "tEA2Xm5dHt1r",
        "I79__PHVH19G",
        "Ou-I18pAyIpj",
        "fF3858GYyt-u",
        "4_0_7-oCpUZd",
        "hwyV_J3ipUZe",
        "3yB-zSqbpUZe",
        "dEUvejAfpUZe",
        "Fd15vwWVpUZf",
        "bn_IUdTipZyH",
        "49K5P_iCpZyH",
        "Nff-vKELpZyI",
        "kLW572S8pZyI",
        "dWbDXHzopZyI",
        "yLjJCtPM0KBk",
        "xiyOF9F70UgQ",
        "7wuGOrhz0itI",
        "id1riN9m0vUs",
        "578E2V7j08f6",
        "89xtkJwZ18nB",
        "67NQN5KX2AMe",
        "Iwf50b-R2tYG",
        "GMQiZwjn3iu7",
        "WVIkgGqN3qsr",
        "XkPnILGE3zoT",
        "Hlsf0x5436Go",
        "mT9DMSJo4nBL",
        "c49ITxTc407N",
        "OeJFEK0N496M",
        "9ExmJH0g5HBk",
        "cJNqERVU536h",
        "k5UmGsbsOxih",
        "T0VqWOYE6DLQ",
        "qBMux9mC6MCf",
        "-oLEiFgy-5Pf",
        "C74aWNz2AliB",
        "2DejudWSA-a0",
        "pEMng2IbBLp7",
        "rAdphbQ9Bhjc",
        "TNVZ9zx19K6k",
        "nqoHp30x9hH9",
        "rMDnDkt2B6du",
        "yiiVWRdJDDil",
        "1UUpS68QDMuG",
        "kexQrXU-DjzY",
        "T5CmagL3EC8N",
        "BhH2vgX9EjGr",
        "qjKvONjwE8ra",
        "P1XJ9OREExlT",
        "VFOzZv6IFROw",
        "TIqpNgepFxVj",
        "VfCC591jGiD4",
        "OB4l2ZhMeS1U",
        "ArJBuiUVfxKd",
        "4qY1EAkEfxKe",
        "PiV4Ypx8fxKe",
        "TfvqoZmBfxKf",
        "dJ2tPlVmpsJ0",
        "JWYfwnehpsJ1",
        "-jK_YjpMpsJ2",
        "HAih1iBOpsJ2",
        "zVGeBEFhpsJ2",
        "bmKjuQ-FpsJ3",
        "Fze-IPXLpx6K",
        "7AN1z2sKpx6M",
        "9PIHJqyupx6M",
        "_-qAgymDpx6N",
        "Z-hykwinpx6N",
        "h_CCil-SKHpo",
        "cBFFvTBNJzUa",
        "HvGl1hHyA_VK",
        "EyNgTHvd2WFk",
        "KH5McJBi2d8v",
        "iW_Lq9qf2h6X",
        "-Kee-DAl2viO",
        "gCX9965dhzqZ",
        "gIfDvo9L0UH2"
      ],
      "gpuType": "T4",
      "include_colab_link": true
    },
    "kernelspec": {
      "name": "python3",
      "display_name": "Python 3"
    },
    "language_info": {
      "name": "python"
    },
    "accelerator": "GPU"
  },
  "cells": [
    {
      "cell_type": "markdown",
      "metadata": {
        "id": "view-in-github",
        "colab_type": "text"
      },
      "source": [
        "<a href=\"https://colab.research.google.com/github/samee-faq/Netflix-Movies-and-Tv-Shows-Clustering_Unsupervised_ML_Capstone-Project/blob/main/Sameera's_Netflix_Movies_and_Tv_Shows_Clustering_Unsupervised_ML_Capstone_Project.ipynb\" target=\"_parent\"><img src=\"https://colab.research.google.com/assets/colab-badge.svg\" alt=\"Open In Colab\"/></a>"
      ]
    },
    {
      "cell_type": "markdown",
      "source": [
        "# **Project Name**    - **Netflix Movies and Tv Shows Clustering**"
      ],
      "metadata": {
        "id": "vncDsAP0Gaoa"
      }
    },
    {
      "cell_type": "markdown",
      "source": [
        "##### **Project Type**    - Unsupervised\n",
        "##### **Contribution**    - Individual\n",
        "##### **Name**            - Sameera Farooqui"
      ],
      "metadata": {
        "id": "beRrZCGUAJYm"
      }
    },
    {
      "cell_type": "markdown",
      "source": [
        "# **Project Summary -**\n",
        "\n",
        "![download (4).jpg](data:image/jpeg;base64,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)\n",
        "\n"
      ],
      "metadata": {
        "id": "FJNUwmbgGyua"
      }
    },
    {
      "cell_type": "markdown",
      "source": [
        "**1.Project Objective:** The project aimed to group similar movies and TV shows on Netflix into clusters based on their content.\n",
        "\n",
        "**2.Data Source:** Data was collected from a third-party Netflix search engine, providing details on over 7,000 Netflix titles.\n",
        "\n",
        "**3.Data Description:** The dataset included information such as title, director, cast, country, date added, rating, and release year. Some data fields had missing values, which were addressed.\n",
        "\n",
        "**4.Data Preprocessing:** Missing values were filled with placeholders like \"Unavailable.\" The \"date_added\" feature was converted to datetime, and additional date-related features were created. Outliers in the \"release year\" were handled using the interquartile range.\n",
        "\n",
        "**5.Data Analysis and Insights:**\n",
        "\n",
        "* Netflix had more movies (69.14%) than TV shows (30.86%).\n",
        "\n",
        "* Majority of movies were released between 2015 and 2020, while TV shows peaked between 2018 and 2020.\n",
        "\n",
        "* 2017 was a significant year for movie releases, and 2020 for TV shows.\n",
        "\n",
        "* Netflix shifted focus to releasing more TV shows than movies in 2020.\n",
        "\n",
        "* Peak content additions occurred in 2019, with regular additions throughout the year.\n",
        "* Most common content rating was TV-MA, followed by TV-14.\n",
        "\n",
        "* The United States produced most movies on Netflix, with India in second place.\n",
        "\n",
        "* The United States and the United Kingdom dominate TV show production.\n",
        "\n",
        "* Raul Campos and Jan Suter directed many Netflix movies, while Alastair Fothergill was prominent in TV shows.\n",
        "\n",
        "* International movies and dramas were popular content on Netflix.\n",
        "\n",
        "* Common actors in Netflix content included Lee, Michel, David, Jhon, and James.\n",
        "\n",
        "* Some correlations were observed between release year and day added, indicating Netflix's growth.\n",
        "\n",
        "**6.Text Data Processing:** Text data from the description was cleaned by removing punctuation, stopwords, and digits. It was then converted into a TF-IDF matrix for clustering.\n",
        "\n",
        "**7.Clustering Models:**\n",
        "\n",
        "* Various clustering algorithms, including K-Means, Hierarchical, and DBSCAN, were applied.\n",
        "\n",
        "* Out of all the methods we tried, the K-Means clustering model was the best at this job. It had a high score, which means it did a good job at putting similar things together.\n",
        "\n",
        "* K-Means clustering performed the best with high Calinski-Harabasz and silhouette scores.\n",
        "\n",
        "**8.Challenges Faced:**\n",
        "\n",
        "Identifying the optimal number of clusters was challenging. Methods like the Kelbow method and silhouette score took time to provide results.\n",
        "\n",
        "**9.Project Outcome:** The project successfully organized Netflix movies and TV shows into clusters, making it easier for users to find content that suits their preferences.\n",
        "\n",
        "**10.Conclusion:** Despite challenges, the project achieved its goal of clustering Netflix content effectively, enhancing the user experience on the platform."
      ],
      "metadata": {
        "id": "F6v_1wHtG2nS"
      }
    },
    {
      "cell_type": "markdown",
      "source": [
        "# **GitHub Link -**"
      ],
      "metadata": {
        "id": "w6K7xa23Elo4"
      }
    },
    {
      "cell_type": "markdown",
      "source": [
        "https://github.com/samee-faq/Netflix-Movies-and-Tv-Shows-Clustering_Unsupervised_ML_Capstone-Project"
      ],
      "metadata": {
        "id": "h1o69JH3Eqqn"
      }
    },
    {
      "cell_type": "markdown",
      "source": [
        "# **Problem Statement**\n"
      ],
      "metadata": {
        "id": "yQaldy8SH6Dl"
      }
    },
    {
      "cell_type": "markdown",
      "source": [
        "**We need to understand what types of TV shows and movies are available on Netflix and if there has been a shift towards more TV shows than movies in recent years. We also want to group similar content together for better user recommendations.**"
      ],
      "metadata": {
        "id": "DpeJGUA3kjGy"
      }
    },
    {
      "cell_type": "markdown",
      "source": [
        "# **General Guidelines** : -  "
      ],
      "metadata": {
        "id": "mDgbUHAGgjLW"
      }
    },
    {
      "cell_type": "markdown",
      "source": [
        "1.   Well-structured, formatted, and commented code is required.\n",
        "2.   Exception Handling, Production Grade Code & Deployment Ready Code will be a plus. Those students will be awarded some additional credits.\n",
        "     \n",
        "     The additional credits will have advantages over other students during Star Student selection.\n",
        "       \n",
        "             [ Note: - Deployment Ready Code is defined as, the whole .ipynb notebook should be executable in one go\n",
        "                       without a single error logged. ]\n",
        "\n",
        "3.   Each and every logic should have proper comments.\n",
        "4. You may add as many number of charts you want. Make Sure for each and every chart the following format should be answered.\n",
        "        \n",
        "\n",
        "```\n",
        "# Chart visualization code\n",
        "```\n",
        "            \n",
        "\n",
        "*   Why did you pick the specific chart?\n",
        "*   What is/are the insight(s) found from the chart?\n",
        "* Will the gained insights help creating a positive business impact?\n",
        "Are there any insights that lead to negative growth? Justify with specific reason.\n",
        "\n",
        "5. You have to create at least 15 logical & meaningful charts having important insights.\n",
        "\n",
        "\n",
        "[ Hints : - Do the Vizualization in  a structured way while following \"UBM\" Rule.\n",
        "\n",
        "U - Univariate Analysis,\n",
        "\n",
        "B - Bivariate Analysis (Numerical - Categorical, Numerical - Numerical, Categorical - Categorical)\n",
        "\n",
        "M - Multivariate Analysis\n",
        " ]\n",
        "\n",
        "\n",
        "\n",
        "\n",
        "\n",
        "6. You may add more ml algorithms for model creation. Make sure for each and every algorithm, the following format should be answered.\n",
        "\n",
        "\n",
        "*   Explain the ML Model used and it's performance using Evaluation metric Score Chart.\n",
        "\n",
        "\n",
        "*   Cross- Validation & Hyperparameter Tuning\n",
        "\n",
        "*   Have you seen any improvement? Note down the improvement with updates Evaluation metric Score Chart.\n",
        "\n",
        "*   Explain each evaluation metric's indication towards business and the business impact pf the ML model used.\n",
        "\n",
        "\n",
        "\n",
        "\n",
        "\n",
        "\n",
        "\n",
        "\n",
        "\n",
        "\n",
        "\n",
        "\n",
        "\n",
        "\n",
        "\n",
        "\n",
        "\n",
        "\n"
      ],
      "metadata": {
        "id": "ZrxVaUj-hHfC"
      }
    },
    {
      "cell_type": "markdown",
      "source": [
        "# ***Let's Begin !***"
      ],
      "metadata": {
        "id": "O_i_v8NEhb9l"
      }
    },
    {
      "cell_type": "markdown",
      "source": [
        "## ***1. Know Your Data***"
      ],
      "metadata": {
        "id": "HhfV-JJviCcP"
      }
    },
    {
      "cell_type": "markdown",
      "source": [
        "### Import Libraries"
      ],
      "metadata": {
        "id": "Y3lxredqlCYt"
      }
    },
    {
      "cell_type": "code",
      "execution_count": null,
      "metadata": {
        "id": "010uothonM-l"
      },
      "outputs": [],
      "source": [
        "# Import Libraries\n",
        "# Important modules\n",
        "import pandas as pd\n",
        "import numpy as np\n",
        "\n",
        "#visulizaiton modules\n",
        "import matplotlib\n",
        "import matplotlib.pyplot as plt\n",
        "import seaborn as sns\n",
        "import missingno as msno\n",
        "import matplotlib.cm as cm\n",
        "import geopandas as gpd\n",
        "!pip install country_converter --upgrade\n",
        "import country_converter as coco\n",
        "import plotly.express as px\n",
        "\n",
        "#import string module\n",
        "import string\n",
        "string.punctuation\n",
        "\n",
        "# Importing libraries for hypothesis testing\n",
        "from scipy.stats import uniform\n",
        "from scipy.stats import norm\n",
        "from scipy.stats import chi2\n",
        "from scipy.stats import t\n",
        "from scipy.stats import f\n",
        "from scipy.stats import ttest_ind\n",
        "from scipy import stats\n",
        "\n",
        "#nlp module\n",
        "from sklearn.feature_extraction.text import CountVectorizer, TfidfVectorizer\n",
        "from wordcloud import WordCloud, STOPWORDS, ImageColorGenerator\n",
        "from nltk.tokenize import word_tokenize\n",
        "from nltk.stem import WordNetLemmatizer\n",
        "from nltk.corpus import stopwords\n",
        "from nltk.stem.snowball import SnowballStemmer\n",
        "from nltk.tokenize import TweetTokenizer\n",
        "from sklearn.metrics.pairwise import cosine_similarity\n",
        "\n",
        "#import fundamental models\n",
        "from sklearn.decomposition import PCA\n",
        "from sklearn.metrics import silhouette_score,silhouette_samples\n",
        "from sklearn.cluster import KMeans\n",
        "import scipy.cluster.hierarchy as shc\n",
        "from sklearn.cluster import AgglomerativeClustering\n",
        "from yellowbrick.cluster import SilhouetteVisualizer\n",
        "\n",
        "#import warnings\n",
        "import warnings\n",
        "warnings.filterwarnings('ignore')"
      ]
    },
    {
      "cell_type": "markdown",
      "source": [
        "### Dataset Loading"
      ],
      "metadata": {
        "id": "3RnN4peoiCZX"
      }
    },
    {
      "cell_type": "code",
      "source": [
        "# Load Dataset"
      ],
      "metadata": {
        "id": "4CkvbW_SlZ_R"
      },
      "execution_count": null,
      "outputs": []
    },
    {
      "cell_type": "code",
      "source": [
        "from google.colab import drive\n",
        "drive.mount('/content/drive')"
      ],
      "metadata": {
        "id": "DaVsXCCW1GXo"
      },
      "execution_count": null,
      "outputs": []
    },
    {
      "cell_type": "code",
      "source": [
        "df=pd.read_csv(\"/content/drive/MyDrive/NETFLIX MOVIES AND TV SHOWS CLUSTERING.csv\")"
      ],
      "metadata": {
        "id": "gVvU-MiJ2XI7"
      },
      "execution_count": null,
      "outputs": []
    },
    {
      "cell_type": "markdown",
      "source": [
        "### Dataset First View"
      ],
      "metadata": {
        "id": "x71ZqKXriCWQ"
      }
    },
    {
      "cell_type": "code",
      "source": [
        "# Dataset First Look\n",
        "\n",
        "df.head()"
      ],
      "metadata": {
        "id": "LWNFOSvLl09H"
      },
      "execution_count": null,
      "outputs": []
    },
    {
      "cell_type": "code",
      "source": [
        "df.tail()"
      ],
      "metadata": {
        "id": "HPcEIyFzy8y4"
      },
      "execution_count": null,
      "outputs": []
    },
    {
      "cell_type": "markdown",
      "source": [
        "# **Data Inispection**"
      ],
      "metadata": {
        "id": "x-k9jxTK0wOW"
      }
    },
    {
      "cell_type": "code",
      "source": [
        "# Dataset Rows & Columns count\n",
        "df.shape"
      ],
      "metadata": {
        "id": "Kllu7SJgmLij"
      },
      "execution_count": null,
      "outputs": []
    },
    {
      "cell_type": "markdown",
      "source": [
        "\n",
        "\n",
        "*   **Dataset having 7787 observations and 12 columns.**\n",
        "\n",
        "\n"
      ],
      "metadata": {
        "id": "qDGyuIe40_QZ"
      }
    },
    {
      "cell_type": "markdown",
      "source": [
        "### Dataset Information"
      ],
      "metadata": {
        "id": "JlHwYmJAmNHm"
      }
    },
    {
      "cell_type": "code",
      "source": [
        "# Dataset Info\n",
        "df.info()"
      ],
      "metadata": {
        "id": "e9hRXRi6meOf"
      },
      "execution_count": null,
      "outputs": []
    },
    {
      "cell_type": "markdown",
      "source": [
        "**1.In the dataset, there are object, and int64 dtypes features present.**\n",
        "\n",
        "**2.Dataset is having numerical and categorical data.**\n",
        "\n",
        "**3.Mixed data(Numerical+Categorical).**\n",
        "\n",
        "**4.There are 12 features.**\n",
        "\n"
      ],
      "metadata": {
        "id": "VP1tDfvn1gD2"
      }
    },
    {
      "cell_type": "markdown",
      "source": [
        "#### Duplicate Values"
      ],
      "metadata": {
        "id": "35m5QtbWiB9F"
      }
    },
    {
      "cell_type": "code",
      "source": [
        "# Dataset Duplicate Value Count\n",
        "count_duplicated = df.duplicated().sum()\n",
        "print(f'Dataset having {count_duplicated} duplicated values')"
      ],
      "metadata": {
        "id": "1sLdpKYkmox0"
      },
      "execution_count": null,
      "outputs": []
    },
    {
      "cell_type": "markdown",
      "source": [
        "\n",
        "\n",
        "*   **We found that there were no duplicate entries in the above data.**\n",
        "\n"
      ],
      "metadata": {
        "id": "t8SbJdln2IGB"
      }
    },
    {
      "cell_type": "markdown",
      "source": [
        "#### Missing Values/Null Values"
      ],
      "metadata": {
        "id": "PoPl-ycgm1ru"
      }
    },
    {
      "cell_type": "code",
      "source": [
        "# Missing Values/Null Values Count\n",
        "count_null_df=df.isnull().sum()\n",
        "count_null_df"
      ],
      "metadata": {
        "id": "GgHWkxvamxVg"
      },
      "execution_count": null,
      "outputs": []
    },
    {
      "cell_type": "code",
      "source": [
        "# Missing Values Percentage\n",
        "percentage_null_value = round(df.isna().sum()/len(df)*100, 2)"
      ],
      "metadata": {
        "id": "YVLYP9MZ2me0"
      },
      "execution_count": null,
      "outputs": []
    },
    {
      "cell_type": "code",
      "source": [
        "# No missing Values in our dataset\n",
        "plt.figure(figsize=(15, 5))\n",
        "sns.heatmap(df.isnull(), cbar=True, yticklabels=False)\n",
        "plt.xlabel(\"Column_Name\", size=14, weight=\"bold\")\n",
        "plt.title(\"Places of missing values in column\",fontweight=\"bold\",size=17)\n",
        "plt.show()"
      ],
      "metadata": {
        "id": "m_eAJSYG2y2T"
      },
      "execution_count": null,
      "outputs": []
    },
    {
      "cell_type": "code",
      "source": [
        "# Visualizing the missing valuesimport missingno as msno\n",
        "msno.bar(df, color='b',sort='ascending', figsize=(10,3), fontsize=15)"
      ],
      "metadata": {
        "id": "3q5wnI3om9sJ"
      },
      "execution_count": null,
      "outputs": []
    },
    {
      "cell_type": "markdown",
      "source": [
        "### What did you know about your dataset?"
      ],
      "metadata": {
        "id": "H0kj-8xxnORC"
      }
    },
    {
      "cell_type": "markdown",
      "source": [
        "* **There are 7787 rows and 12 columns in the dataset.**\n",
        "\n",
        "* **In the director, cast, country, date_added, and rating columns, there are missing values.**\n",
        "\n",
        "* **The dataset does not contain any duplicate values.**\n",
        "\n",
        "\n",
        "\n",
        "*   **Every row of information we have relates to a specific movie. Therefore, we are unable to use any method to impute any null values.**\n",
        "\n",
        "\n",
        "* **Additionally, due to the small size of the data, we do not want to lose any data, so after analyzing each column, we simply impute numeric values using an empty string in the following procedure.**"
      ],
      "metadata": {
        "id": "gfoNAAC-nUe_"
      }
    },
    {
      "cell_type": "markdown",
      "source": [
        "## ***2. Understanding Your Variables***"
      ],
      "metadata": {
        "id": "nA9Y7ga8ng1Z"
      }
    },
    {
      "cell_type": "code",
      "source": [
        "# Dataset Columns\n",
        "df.columns"
      ],
      "metadata": {
        "id": "j7xfkqrt5Ag5"
      },
      "execution_count": null,
      "outputs": []
    },
    {
      "cell_type": "code",
      "source": [
        "# Dataset Describe\n",
        "# Basic description of Dataset\n",
        "df.describe(include='all')"
      ],
      "metadata": {
        "id": "DnOaZdaE5Q5t"
      },
      "execution_count": null,
      "outputs": []
    },
    {
      "cell_type": "markdown",
      "source": [
        "### Variables Description"
      ],
      "metadata": {
        "id": "PBTbrJXOngz2"
      }
    },
    {
      "cell_type": "markdown",
      "source": [
        "**show_id :** Unique ID for every Movie/Show\n",
        "\n",
        "**type :** Identifier - Movie/Show\n",
        "\n",
        "**title :** Title of the Movie/Show\n",
        "\n",
        "**director :** Director of the Movie/Show\n",
        "\n",
        "**cast :** Actors involved in the Movie/Show\n",
        "\n",
        "**country :** Country where the Movie/Show was produced\n",
        "\n",
        "**date_added :** Date it was added on Netflix\n",
        "\n",
        "**release_year :** Actual Release year of the Movie/Show\n",
        "\n",
        "**rating :** TV Rating of the Movie/Show\n",
        "\n",
        "**duration :** Total Duration - in minutes or number of seasons\n",
        "\n",
        "**listed_in :** Genre\n",
        "\n",
        "**description :** The Summary description"
      ],
      "metadata": {
        "id": "aJV4KIxSnxay"
      }
    },
    {
      "cell_type": "code",
      "source": [
        "# Finding categorical variables\n",
        "categorical_variables = [var for var in df.columns if df[var].dtype=='O']\n",
        "print('There are {} categorical variables'.format(len(categorical_variables)))\n",
        "print('--'*45)\n",
        "print(categorical_variables)"
      ],
      "metadata": {
        "id": "3nW8cFVK4yV9"
      },
      "execution_count": null,
      "outputs": []
    },
    {
      "cell_type": "code",
      "source": [
        "for col in df.select_dtypes(include='object').columns:\n",
        "  print(col)\n",
        "  print(df[col].unique())\n",
        "  print('--'*45)"
      ],
      "metadata": {
        "id": "r2nkyw9I43Kk"
      },
      "execution_count": null,
      "outputs": []
    },
    {
      "cell_type": "markdown",
      "source": [
        "- 'show_id', 'type', 'title', 'director', 'cast', 'country', 'date_added', 'rating', 'duration', 'listed_in', 'description' among these 1 categorical variables in this dataset.\n",
        "- There are 1 numerical variables in this dataset:'release_year'"
      ],
      "metadata": {
        "id": "LW7c2R_Y6K3h"
      }
    },
    {
      "cell_type": "markdown",
      "source": [
        "### Check Unique Values for each variable."
      ],
      "metadata": {
        "id": "u3PMJOP6ngxN"
      }
    },
    {
      "cell_type": "code",
      "source": [
        "# Check Unique Values for each variable.\n",
        "for i in df.columns.tolist():\n",
        "  print(\"No. of unique values in\", i ,\"is\", df[i].nunique())\n",
        "  print('--'*50)"
      ],
      "metadata": {
        "id": "zms12Yq5n-jE"
      },
      "execution_count": null,
      "outputs": []
    },
    {
      "cell_type": "markdown",
      "source": [
        "* **We are focusing on several key columns of our dataset, including 'type', 'title', 'director', 'cast', 'country', 'rating', 'listed_in', and 'description', as they contain a wealth of information.**\n",
        "\n",
        "* **By utilizing these features, we plan to create a cluster column and implement both K-means and Hierarchical clustering algorithms.**\n",
        "\n",
        "* **Additionally, we will be developing a content-based recommendation system that utilizes the information from these columns to provide personalized suggestions to users. This approach will allow us to gain valuable insights and group similar data points together, as well as provide personalized recommendations based on user preferences and viewing history.**"
      ],
      "metadata": {
        "id": "BGC-oj996lzl"
      }
    },
    {
      "cell_type": "markdown",
      "source": [
        "# **Exploratory Data Analysis(EDA):-**"
      ],
      "metadata": {
        "id": "GIDFzz-y7SYU"
      }
    },
    {
      "cell_type": "markdown",
      "source": [
        "# **Content**"
      ],
      "metadata": {
        "id": "U9wrwJly7dG4"
      }
    },
    {
      "cell_type": "code",
      "source": [
        "#Value count for content column\n",
        "counts = df.type.value_counts()\n",
        "percs = df.type.value_counts(normalize=True)\n",
        "pd.concat([counts,percs], axis=1, keys=['count', 'percentage'])"
      ],
      "metadata": {
        "id": "3N0M2Sip8w7L"
      },
      "execution_count": null,
      "outputs": []
    },
    {
      "cell_type": "code",
      "source": [
        "fig,ax = plt.subplots(1,2, figsize=(14,5))\n",
        "\n",
        "# countplot\n",
        "graph = sns.countplot(x='type', data = df, ax=ax[0])\n",
        "graph.set_title('Count of Values', size=20)\n",
        "\n",
        "# piechart\n",
        "df['type'].value_counts().plot(kind='pie', autopct='%1.2f%%', ax=ax[1], figsize=(15,6),startangle=90)\n",
        "plt.title('Percentage Distribution', size=20)\n",
        "\n",
        "plt.tight_layout()\n",
        "plt.show()"
      ],
      "metadata": {
        "id": "ZmZ5vKhz86vO"
      },
      "execution_count": null,
      "outputs": []
    },
    {
      "cell_type": "markdown",
      "source": [
        "\n",
        "\n",
        "*   **Movies has more number of counts than TV Shows.**\n",
        "*   **31% of the data are from TV shows, while 69% of the data are from movies.**\n",
        "\n",
        "\n"
      ],
      "metadata": {
        "id": "5iBvEFo99C3W"
      }
    },
    {
      "cell_type": "markdown",
      "source": [
        "# **Ratings**"
      ],
      "metadata": {
        "id": "0wOQAZs5pc--"
      }
    },
    {
      "cell_type": "code",
      "source": [
        "# number of unique values\n",
        "df.rating.nunique()"
      ],
      "metadata": {
        "id": "7v_ESjsspbW7"
      },
      "execution_count": null,
      "outputs": []
    },
    {
      "cell_type": "code",
      "source": [
        "fig,ax = plt.subplots(1,2, figsize=(15,6))\n",
        "plt.suptitle('Top 10 rating given for movie and shows', weight='bold', y=1.02, size=15)\n",
        "\n",
        "# univariate analysis\n",
        "sns.countplot(x=\"rating\", data=df, order=df['rating'].value_counts().index[0:10], ax=ax[0])\n",
        "\n",
        "# bivariate analysis\n",
        "graph = sns.countplot(x=\"rating\", data=df, hue='type', order=df['rating'].value_counts().index[0:10], ax=ax[1])\n",
        "plt.xticks(rotation=90)\n",
        "\n",
        "plt.tight_layout()\n",
        "plt.show()"
      ],
      "metadata": {
        "id": "7P6ooE6e9pmo"
      },
      "execution_count": null,
      "outputs": []
    },
    {
      "cell_type": "code",
      "source": [
        "#Value count for rating column\n",
        "counts = df.rating.value_counts()\n",
        "percs = df.rating.value_counts(normalize=True)\n",
        "pd.concat([counts,percs], axis=1, keys=['count', 'percentage'])"
      ],
      "metadata": {
        "id": "_9eRr4LK92WW"
      },
      "execution_count": null,
      "outputs": []
    },
    {
      "cell_type": "code",
      "source": [
        "#creating two extra column\n",
        "tv_shows=df[df['type']=='TV Show']\n",
        "movies=df[df['type']=='Movie']"
      ],
      "metadata": {
        "id": "d-SNXwVi-Ezq"
      },
      "execution_count": null,
      "outputs": []
    },
    {
      "cell_type": "code",
      "source": [
        "#Assigning the Ratings into grouped categories\n",
        "ratings = {\n",
        "    'TV-PG': 'Older Kids',\n",
        "    'TV-MA': 'Adults',\n",
        "    'TV-Y7-FV': 'Older Kids',\n",
        "    'TV-Y7': 'Older Kids',\n",
        "    'TV-14': 'Teens',\n",
        "    'R': 'Adults',\n",
        "    'TV-Y': 'Kids',\n",
        "    'NR': 'Adults',\n",
        "    'PG-13': 'Teens',\n",
        "    'TV-G': 'Kids',\n",
        "    'PG': 'Older Kids',\n",
        "    'G': 'Kids',\n",
        "    'UR': 'Adults',\n",
        "    'NC-17': 'Adults'\n",
        "}\n",
        "df['target_ages'] = df['rating'].replace(ratings)"
      ],
      "metadata": {
        "id": "vSop6duC-IhQ"
      },
      "execution_count": null,
      "outputs": []
    },
    {
      "cell_type": "code",
      "source": [
        "#Analysis on rating based on overall movie show rating system\n",
        "movies_ratings = movies.groupby(['rating'])['show_id'].count().reset_index(name='count').sort_values(by='count',ascending=False)\n",
        "fig_dims = (8,5)\n",
        "fig, ax = plt.subplots(figsize=fig_dims)\n",
        "sns.pointplot(x='rating',y='count',data=movies_ratings)\n",
        "plt.title('ANALYSIS ON MOVIE SHOW RATINGS', fontsize=15, fontweight='bold')\n",
        "plt.show()"
      ],
      "metadata": {
        "id": "B2CGFPds-RYU"
      },
      "execution_count": null,
      "outputs": []
    },
    {
      "cell_type": "code",
      "source": [
        "#Analysis rating based on overall tv show rating system\n",
        "tv_ratings = tv_shows.groupby(['rating'])['show_id'].count().reset_index(name='count').sort_values(by='count',ascending=False)\n",
        "fig_dims = (8,5)\n",
        "fig, ax = plt.subplots(figsize=fig_dims)\n",
        "sns.pointplot(x='rating',y='count',data=tv_ratings)\n",
        "plt.title('ANALYSIS ON TV SHOW RATINGS', fontsize=15, fontweight='bold')\n",
        "plt.show()"
      ],
      "metadata": {
        "id": "fLdu83tv-pGu"
      },
      "execution_count": null,
      "outputs": []
    },
    {
      "cell_type": "code",
      "source": [
        "#Ananlysis top 10 Ratings Show\n",
        "plt.figure(figsize=(8,5))\n",
        "plt.suptitle('TOP 10 Ratings FOR MOVIES AND TV SHOWS',fontsize=15, fontweight='bold')\n",
        "graph = sns.countplot(x=\"rating\", data=df, hue='type',palette=\"BrBG\", order=df['rating'].value_counts().index[0:10])\n",
        "plt.xticks(rotation=45)\n",
        "plt.tight_layout()\n",
        "plt.show()"
      ],
      "metadata": {
        "id": "y-XLtaX5-06n"
      },
      "execution_count": null,
      "outputs": []
    },
    {
      "cell_type": "markdown",
      "source": [
        "\n",
        "*   **The majority of Movies and TV shows have a rating of TV-MA, which stands for \"Mature Audience,\" followed by TV-14, which stands for \"Younger Audience.\"**\n",
        "*   **When compared to TV shows, Movies receive the highest rating, which is pretty obvious given that a number of Movies are higher compared to TV shows, as we saw earlier in the type column.**\n",
        "\n"
      ],
      "metadata": {
        "id": "bOtv4CtJ_Iqd"
      }
    },
    {
      "cell_type": "markdown",
      "source": [
        "# **title**"
      ],
      "metadata": {
        "id": "KSlN3yHqYklG"
      }
    },
    {
      "cell_type": "code",
      "source": [
        "# Word Cloud library\n",
        "from wordcloud import WordCloud, STOPWORDS"
      ],
      "metadata": {
        "id": "R4YgtaqtYklH"
      },
      "execution_count": null,
      "outputs": []
    },
    {
      "cell_type": "code",
      "source": [
        "# text documents\n",
        "text = \" \".join(word for word in df['title'])\n",
        "\n",
        "# create the word cloud using WordCloud library\n",
        "wordcloud = WordCloud(stopwords=STOPWORDS, background_color='white', min_font_size=15).generate(text)\n",
        "\n",
        "# plot the word cloud\n",
        "plt.imshow(wordcloud,  interpolation='bilinear')\n",
        "plt.show()"
      ],
      "metadata": {
        "id": "PVSgpedu_sXK"
      },
      "execution_count": null,
      "outputs": []
    },
    {
      "cell_type": "markdown",
      "source": [
        "\n",
        "\n",
        "*   **Words like 'Love', 'Christmas', 'Man', 'World', 'Life', 'Girl', and 'Story' are frequently used in the movie title column.**\n",
        "\n",
        "\n"
      ],
      "metadata": {
        "id": "mRX_1DMY_9EL"
      }
    },
    {
      "cell_type": "markdown",
      "source": [
        "# **Description**####"
      ],
      "metadata": {
        "id": "EM7whBJCYoAo"
      }
    },
    {
      "cell_type": "code",
      "source": [
        "# text documents\n",
        "text = \" \".join(word for word in df['description'])\n",
        "\n",
        "# create the word cloud using WordCloud library\n",
        "wordcloud = WordCloud(stopwords=STOPWORDS, background_color='white', min_font_size=15).generate(text)\n",
        "\n",
        "# plot the word cloud\n",
        "plt.imshow(wordcloud,  interpolation='bilinear')\n",
        "plt.show()"
      ],
      "metadata": {
        "id": "t6GMdE67YoAp"
      },
      "execution_count": null,
      "outputs": []
    },
    {
      "cell_type": "markdown",
      "source": [
        "\n",
        "\n",
        "*   **The most frequently used words in the description column are \"family,\" \"find,\" \"life,\" \"love,\" \"new world,\" and \"friend.\"**\n",
        "\n",
        "\n"
      ],
      "metadata": {
        "id": "R5Tj4DzQAbUL"
      }
    },
    {
      "cell_type": "code",
      "source": [
        "# number of unique values in country column\n",
        "df['country'].nunique()"
      ],
      "metadata": {
        "id": "Z-g1rVMeAuI1"
      },
      "execution_count": null,
      "outputs": []
    },
    {
      "cell_type": "code",
      "source": [
        "#Value count for country column\n",
        "counts = df.country.value_counts()\n",
        "percs = df.country.value_counts(normalize=True)\n",
        "pd.concat([counts,percs], axis=1, keys=['count', 'percentage'])"
      ],
      "metadata": {
        "id": "QmZdqBbHA8Xk"
      },
      "execution_count": null,
      "outputs": []
    },
    {
      "cell_type": "code",
      "source": [
        "fig,ax = plt.subplots(1,2, figsize=(15,5))\n",
        "plt.suptitle('Top 10 country with the highest number of movie/shows', weight='bold', size=15, y=1.01)\n",
        "\n",
        "# univariate analysis\n",
        "df['country'].value_counts().nlargest(10).plot(kind='barh', ax=ax[0])\n",
        "\n",
        "# bivariate analysis\n",
        "graph = sns.countplot(x=\"country\", data=df, hue='type',order=df['country'].value_counts().index[0:10], ax=ax[1])\n",
        "plt.xticks(rotation=90)\n",
        "\n",
        "plt.tight_layout()\n",
        "plt.show()"
      ],
      "metadata": {
        "id": "Xzv3BTtNBn7p"
      },
      "execution_count": null,
      "outputs": []
    },
    {
      "cell_type": "markdown",
      "source": [
        "\n",
        "\n",
        "*   **The United States-based movies and TV shows were produced most, followed by India and the United Kingdom.**\n",
        "\n",
        "* **In India and United State, a greater number of movies are present compared to TV shows.**\n",
        "* **In the UK, Japan, and South Korea there are a greater number of TV shows than movies.**\n",
        "\n",
        "\n"
      ],
      "metadata": {
        "id": "u3wPkfFDBvVd"
      }
    },
    {
      "cell_type": "markdown",
      "source": [
        "# **Release year**"
      ],
      "metadata": {
        "id": "4Of9eVA-YrdM"
      }
    },
    {
      "cell_type": "code",
      "source": [
        "# number of unique values\n",
        "df['release_year'].nunique()"
      ],
      "metadata": {
        "id": "irlUoxc8YrdO"
      },
      "execution_count": null,
      "outputs": []
    },
    {
      "cell_type": "code",
      "source": [
        "print(f'Oldest release year : {df.release_year.min()}')\n",
        "print(f'Latest release year : {df.release_year.max()}')"
      ],
      "metadata": {
        "id": "Bv11uuxWCM1n"
      },
      "execution_count": null,
      "outputs": []
    },
    {
      "cell_type": "code",
      "source": [
        "fig,ax = plt.subplots(1,2, figsize=(15,6))\n",
        "\n",
        "# Univariate analysis\n",
        "hist = sns.histplot(df['release_year'], ax=ax[0])\n",
        "hist.set_title('Distribution by released year', size=15)\n",
        "\n",
        "# Bivariate analysis\n",
        "count = sns.countplot(x=\"release_year\", hue='type', data=df, order=df['release_year'].value_counts().index[0:15], ax=ax[1])\n",
        "count.set_title('Movie/TV shows released in top 15 year', size=15)\n",
        "plt.xticks(rotation=90)\n",
        "\n",
        "plt.tight_layout()\n",
        "plt.show()"
      ],
      "metadata": {
        "id": "qn_zQAceCbjy"
      },
      "execution_count": null,
      "outputs": []
    },
    {
      "cell_type": "code",
      "source": [
        "#Value count for year column\n",
        "counts = df.release_year.value_counts()\n",
        "percs = df.release_year.value_counts(normalize=True)\n",
        "pd.concat([counts,percs], axis=1, keys=['count', 'percentage'])"
      ],
      "metadata": {
        "id": "wVAhmgjSCoBV"
      },
      "execution_count": null,
      "outputs": []
    },
    {
      "cell_type": "code",
      "source": [
        "#Analysis on release year of movie show\n",
        "plt.figure(figsize=(8,5))\n",
        "sns.countplot(y=\"release_year\", data=movies, palette=\"BrBG\", order=movies['release_year'].value_counts().index[0:15])\n",
        "plt.title('ANALYSIS ON RELEASE YEAR MOVIES', fontsize=15, fontweight='bold')\n",
        "plt.show()"
      ],
      "metadata": {
        "id": "oskDN9rhDbCV"
      },
      "execution_count": null,
      "outputs": []
    },
    {
      "cell_type": "code",
      "source": [
        "#Analysis release year of tv show\n",
        "plt.figure(figsize=(8,5))\n",
        "sns.countplot(y=\"release_year\", data=tv_shows, palette=\"BrBG\", order=tv_shows['release_year'].value_counts().index[0:15])\n",
        "plt.title('ANALYSIS ON RELEASE YEAR TV SHOW', fontsize=15, fontweight='bold')\n",
        "plt.show()"
      ],
      "metadata": {
        "id": "k79W2YASDlUu"
      },
      "execution_count": null,
      "outputs": []
    },
    {
      "cell_type": "markdown",
      "source": [
        "\n",
        "\n",
        "*   **Netflix continues to add more shows on its platform over the years. Highest number of movies released in 2017 and 2018. Highest number of tv shows released in 2019 and 2020.**\n",
        "\n",
        "* **There is a decrease in the number of movies added in the year 2020, which might be attributed to the covid-19-induced lockdowns, which halted the creation of shows. We have Netflix data only up to 2021, hence there are less movies added in this year.**\n",
        "\n",
        "* **The number of movies on Netflix is growing significantly faster than the number of TV shows. It appears that Netflix has focused more attention on increasing Movie content that TV Shows. Movies have increased much more dramatically than TV shows.**\n",
        "\n",
        "\n"
      ],
      "metadata": {
        "id": "GjmilowTDxNn"
      }
    },
    {
      "cell_type": "markdown",
      "source": [
        "# **Director**"
      ],
      "metadata": {
        "id": "bamQiAODYuh1"
      }
    },
    {
      "cell_type": "code",
      "source": [
        "print(f'number of unique directors : {df.director.nunique()}')\n",
        "print(f'null values in the column : {df.director.isna().sum()}')"
      ],
      "metadata": {
        "id": "TIJwrbroYuh3"
      },
      "execution_count": null,
      "outputs": []
    },
    {
      "cell_type": "code",
      "source": [
        "print(f\"Number of Movies directed by directors are : { df[df['type']=='TV Show']['director'].value_counts().sum()}\")\n",
        "print(f\"Number of TV shows directed by directors are : {df[df['type']=='Movie']['director'].value_counts().sum()}\")"
      ],
      "metadata": {
        "id": "AguPeM4gER_M"
      },
      "execution_count": null,
      "outputs": []
    },
    {
      "cell_type": "code",
      "source": [
        "fig,ax = plt.subplots(1,2, figsize=(14,5))\n",
        "\n",
        "# top 10 directors who directed TV shows\n",
        "tv_shows = df[df['type']=='TV Show']['director'].value_counts()[:10].plot(kind='barh', ax=ax[0])\n",
        "tv_shows.set_title('top 10 director who directed TV Shows', size=15)\n",
        "\n",
        "# top 10 directors who directed Movies\n",
        "movies = df[df['type']=='Movie']['director'].value_counts()[:10].plot(kind='barh', ax=ax[1])\n",
        "movies.set_title('top 10 director who directed Movies', size=15)\n",
        "\n",
        "plt.tight_layout(pad=1.2, rect=[0, 0, 0.95, 0.95])\n",
        "plt.show()"
      ],
      "metadata": {
        "id": "GT4_weCjEXa8"
      },
      "execution_count": null,
      "outputs": []
    },
    {
      "cell_type": "markdown",
      "source": [
        "\n",
        "\n",
        "*   **The three shows directed by Alastair Fothergill are the highest on the data list.**\n",
        "* **Both, Jan Suter and Raul Campos have directed 18 films, more than anyone else in the dataset.**\n",
        "\n",
        "\n"
      ],
      "metadata": {
        "id": "imNMv_A1EoW_"
      }
    },
    {
      "cell_type": "markdown",
      "source": [
        "# **Cast**"
      ],
      "metadata": {
        "id": "OH-pJp9IphqM"
      }
    },
    {
      "cell_type": "code",
      "source": [
        "df['cast']"
      ],
      "metadata": {
        "id": "kuRf4wtuphqN"
      },
      "execution_count": null,
      "outputs": []
    },
    {
      "cell_type": "code",
      "source": [
        "# seperating actors from cast column\n",
        "cast = df['cast'].str.split(', ', expand=True).stack()\n",
        "\n",
        "# top actors name who play highest role in movie/show.\n",
        "cast.value_counts()"
      ],
      "metadata": {
        "id": "dyoMMLsYFMvG"
      },
      "execution_count": null,
      "outputs": []
    },
    {
      "cell_type": "code",
      "source": [
        "print(f\"Number of TV Shows actors: {len(df[df['type']=='TV Show']['cast'].str.split(', ',expand=True).stack().value_counts())}\")\n",
        "print(f\"Number of Movies actors: {len(df[df['type']=='Movie']['cast'].str.split(', ', expand=True).stack().value_counts())}\")"
      ],
      "metadata": {
        "id": "WXMFeEOoFXlZ"
      },
      "execution_count": null,
      "outputs": []
    },
    {
      "cell_type": "code",
      "source": [
        "fig,ax = plt.subplots(1,2, figsize=(14,5))\n",
        "\n",
        "# seperating TV shows actor from cast column\n",
        "top_TVshows_actor = df[df['type']=='TV Show']['cast'].str.split(', ', expand=True).stack()\n",
        "# plotting actor who appeared in highest number of TV Show\n",
        "a = top_TVshows_actor.value_counts().head(10).plot(kind='barh', ax=ax[0])\n",
        "a.set_title('Top 10 TV shows actors', size=15)\n",
        "\n",
        "# seperating movie actor from cast column\n",
        "top_movie_actor = df[df['type']=='Movie']['cast'].str.split(', ', expand=True).stack()\n",
        "# plotting actor who appeared in highest number of Movie\n",
        "b = top_movie_actor.value_counts().head(10).plot(kind='barh', ax=ax[1])\n",
        "b.set_title('Top 10 Movie actors', size=15)\n",
        "\n",
        "plt.tight_layout(pad=1.2, rect=[0, 0, 0.95, 0.95])\n",
        "plt.show()"
      ],
      "metadata": {
        "id": "48LQQgBLFjwu"
      },
      "execution_count": null,
      "outputs": []
    },
    {
      "cell_type": "markdown",
      "source": [
        "##### 1. Why did you pick the specific chart?"
      ],
      "metadata": {
        "id": "bbFf2-_FphqN"
      }
    },
    {
      "cell_type": "markdown",
      "source": [
        "Answer Here."
      ],
      "metadata": {
        "id": "loh7H2nzphqN"
      }
    },
    {
      "cell_type": "markdown",
      "source": [
        "##### 2. What is/are the insight(s) found from the chart?"
      ],
      "metadata": {
        "id": "_ouA3fa0phqN"
      }
    },
    {
      "cell_type": "markdown",
      "source": [
        "Answer Here"
      ],
      "metadata": {
        "id": "VECbqPI7phqN"
      }
    },
    {
      "cell_type": "markdown",
      "source": [
        "##### 3. Will the gained insights help creating a positive business impact?\n",
        "Are there any insights that lead to negative growth? Justify with specific reason."
      ],
      "metadata": {
        "id": "Seke61FWphqN"
      }
    },
    {
      "cell_type": "markdown",
      "source": [
        "Answer Here"
      ],
      "metadata": {
        "id": "DW4_bGpfphqN"
      }
    },
    {
      "cell_type": "markdown",
      "source": [
        "#### Chart - 7"
      ],
      "metadata": {
        "id": "PIIx-8_IphqN"
      }
    },
    {
      "cell_type": "code",
      "source": [
        "# Chart - 7 visualization code"
      ],
      "metadata": {
        "id": "lqAIGUfyphqO"
      },
      "execution_count": null,
      "outputs": []
    },
    {
      "cell_type": "markdown",
      "source": [
        "##### 1. Why did you pick the specific chart?"
      ],
      "metadata": {
        "id": "t27r6nlMphqO"
      }
    },
    {
      "cell_type": "markdown",
      "source": [
        "Answer Here."
      ],
      "metadata": {
        "id": "iv6ro40sphqO"
      }
    },
    {
      "cell_type": "markdown",
      "source": [
        "##### 2. What is/are the insight(s) found from the chart?"
      ],
      "metadata": {
        "id": "r2jJGEOYphqO"
      }
    },
    {
      "cell_type": "markdown",
      "source": [
        "Answer Here"
      ],
      "metadata": {
        "id": "Po6ZPi4hphqO"
      }
    },
    {
      "cell_type": "markdown",
      "source": [
        "##### 3. Will the gained insights help creating a positive business impact?\n",
        "Are there any insights that lead to negative growth? Justify with specific reason."
      ],
      "metadata": {
        "id": "b0JNsNcRphqO"
      }
    },
    {
      "cell_type": "markdown",
      "source": [
        "Answer Here"
      ],
      "metadata": {
        "id": "xvSq8iUTphqO"
      }
    },
    {
      "cell_type": "markdown",
      "source": [
        "#### Chart - 8"
      ],
      "metadata": {
        "id": "BZR9WyysphqO"
      }
    },
    {
      "cell_type": "code",
      "source": [
        "# Chart - 8 visualization code"
      ],
      "metadata": {
        "id": "TdPTWpAVphqO"
      },
      "execution_count": null,
      "outputs": []
    },
    {
      "cell_type": "markdown",
      "source": [
        "##### 1. Why did you pick the specific chart?"
      ],
      "metadata": {
        "id": "jj7wYXLtphqO"
      }
    },
    {
      "cell_type": "markdown",
      "source": [
        "Answer Here."
      ],
      "metadata": {
        "id": "Ob8u6rCTphqO"
      }
    },
    {
      "cell_type": "markdown",
      "source": [
        "##### 2. What is/are the insight(s) found from the chart?"
      ],
      "metadata": {
        "id": "eZrbJ2SmphqO"
      }
    },
    {
      "cell_type": "markdown",
      "source": [
        "Answer Here"
      ],
      "metadata": {
        "id": "mZtgC_hjphqO"
      }
    },
    {
      "cell_type": "markdown",
      "source": [
        "##### 3. Will the gained insights help creating a positive business impact?\n",
        "Are there any insights that lead to negative growth? Justify with specific reason."
      ],
      "metadata": {
        "id": "rFu4xreNphqO"
      }
    },
    {
      "cell_type": "markdown",
      "source": [
        "Answer Here"
      ],
      "metadata": {
        "id": "ey_0qi68phqO"
      }
    },
    {
      "cell_type": "markdown",
      "source": [
        "#### Chart - 9"
      ],
      "metadata": {
        "id": "YJ55k-q6phqO"
      }
    },
    {
      "cell_type": "code",
      "source": [
        "# Chart - 9 visualization code"
      ],
      "metadata": {
        "id": "B2aS4O1ophqO"
      },
      "execution_count": null,
      "outputs": []
    },
    {
      "cell_type": "markdown",
      "source": [
        "##### 1. Why did you pick the specific chart?"
      ],
      "metadata": {
        "id": "gCFgpxoyphqP"
      }
    },
    {
      "cell_type": "markdown",
      "source": [
        "Answer Here."
      ],
      "metadata": {
        "id": "TVxDimi2phqP"
      }
    },
    {
      "cell_type": "markdown",
      "source": [
        "##### 2. What is/are the insight(s) found from the chart?"
      ],
      "metadata": {
        "id": "OVtJsKN_phqQ"
      }
    },
    {
      "cell_type": "markdown",
      "source": [
        "Answer Here"
      ],
      "metadata": {
        "id": "ngGi97qjphqQ"
      }
    },
    {
      "cell_type": "markdown",
      "source": [
        "##### 3. Will the gained insights help creating a positive business impact?\n",
        "Are there any insights that lead to negative growth? Justify with specific reason."
      ],
      "metadata": {
        "id": "lssrdh5qphqQ"
      }
    },
    {
      "cell_type": "markdown",
      "source": [
        "Answer Here"
      ],
      "metadata": {
        "id": "tBpY5ekJphqQ"
      }
    },
    {
      "cell_type": "markdown",
      "source": [
        "#### Chart - 10"
      ],
      "metadata": {
        "id": "U2RJ9gkRphqQ"
      }
    },
    {
      "cell_type": "code",
      "source": [
        "# Chart - 10 visualization code"
      ],
      "metadata": {
        "id": "GM7a4YP4phqQ"
      },
      "execution_count": null,
      "outputs": []
    },
    {
      "cell_type": "markdown",
      "source": [
        "##### 1. Why did you pick the specific chart?"
      ],
      "metadata": {
        "id": "1M8mcRywphqQ"
      }
    },
    {
      "cell_type": "markdown",
      "source": [
        "Answer Here."
      ],
      "metadata": {
        "id": "8agQvks0phqQ"
      }
    },
    {
      "cell_type": "markdown",
      "source": [
        "##### 2. What is/are the insight(s) found from the chart?"
      ],
      "metadata": {
        "id": "tgIPom80phqQ"
      }
    },
    {
      "cell_type": "markdown",
      "source": [
        "Answer Here"
      ],
      "metadata": {
        "id": "Qp13pnNzphqQ"
      }
    },
    {
      "cell_type": "markdown",
      "source": [
        "##### 3. Will the gained insights help creating a positive business impact?\n",
        "Are there any insights that lead to negative growth? Justify with specific reason."
      ],
      "metadata": {
        "id": "JMzcOPDDphqR"
      }
    },
    {
      "cell_type": "markdown",
      "source": [
        "Answer Here"
      ],
      "metadata": {
        "id": "R4Ka1PC2phqR"
      }
    },
    {
      "cell_type": "markdown",
      "source": [
        "#### Chart - 11"
      ],
      "metadata": {
        "id": "x-EpHcCOp1ci"
      }
    },
    {
      "cell_type": "code",
      "source": [
        "# Chart - 11 visualization code"
      ],
      "metadata": {
        "id": "mAQTIvtqp1cj"
      },
      "execution_count": null,
      "outputs": []
    },
    {
      "cell_type": "markdown",
      "source": [
        "##### 1. Why did you pick the specific chart?"
      ],
      "metadata": {
        "id": "X_VqEhTip1ck"
      }
    },
    {
      "cell_type": "markdown",
      "source": [
        "Answer Here."
      ],
      "metadata": {
        "id": "-vsMzt_np1ck"
      }
    },
    {
      "cell_type": "markdown",
      "source": [
        "##### 2. What is/are the insight(s) found from the chart?"
      ],
      "metadata": {
        "id": "8zGJKyg5p1ck"
      }
    },
    {
      "cell_type": "markdown",
      "source": [
        "Answer Here"
      ],
      "metadata": {
        "id": "ZYdMsrqVp1ck"
      }
    },
    {
      "cell_type": "markdown",
      "source": [
        "##### 3. Will the gained insights help creating a positive business impact?\n",
        "Are there any insights that lead to negative growth? Justify with specific reason."
      ],
      "metadata": {
        "id": "PVzmfK_Ep1ck"
      }
    },
    {
      "cell_type": "markdown",
      "source": [
        "Answer Here"
      ],
      "metadata": {
        "id": "druuKYZpp1ck"
      }
    },
    {
      "cell_type": "markdown",
      "source": [
        "#### Chart - 12"
      ],
      "metadata": {
        "id": "n3dbpmDWp1ck"
      }
    },
    {
      "cell_type": "code",
      "source": [
        "# Chart - 12 visualization code"
      ],
      "metadata": {
        "id": "bwevp1tKp1ck"
      },
      "execution_count": null,
      "outputs": []
    },
    {
      "cell_type": "markdown",
      "source": [
        "##### 1. Why did you pick the specific chart?"
      ],
      "metadata": {
        "id": "ylSl6qgtp1ck"
      }
    },
    {
      "cell_type": "markdown",
      "source": [
        "Answer Here."
      ],
      "metadata": {
        "id": "m2xqNkiQp1ck"
      }
    },
    {
      "cell_type": "markdown",
      "source": [
        "##### 2. What is/are the insight(s) found from the chart?"
      ],
      "metadata": {
        "id": "ZWILFDl5p1ck"
      }
    },
    {
      "cell_type": "markdown",
      "source": [
        "Answer Here"
      ],
      "metadata": {
        "id": "x-lUsV2mp1ck"
      }
    },
    {
      "cell_type": "markdown",
      "source": [
        "##### 3. Will the gained insights help creating a positive business impact?\n",
        "Are there any insights that lead to negative growth? Justify with specific reason."
      ],
      "metadata": {
        "id": "M7G43BXep1ck"
      }
    },
    {
      "cell_type": "markdown",
      "source": [
        "Answer Here"
      ],
      "metadata": {
        "id": "5wwDJXsLp1cl"
      }
    },
    {
      "cell_type": "markdown",
      "source": [
        "#### Chart - 13"
      ],
      "metadata": {
        "id": "Ag9LCva-p1cl"
      }
    },
    {
      "cell_type": "code",
      "source": [
        "# Chart - 13 visualization code"
      ],
      "metadata": {
        "id": "EUfxeq9-p1cl"
      },
      "execution_count": null,
      "outputs": []
    },
    {
      "cell_type": "markdown",
      "source": [
        "##### 1. Why did you pick the specific chart?"
      ],
      "metadata": {
        "id": "E6MkPsBcp1cl"
      }
    },
    {
      "cell_type": "markdown",
      "source": [
        "Answer Here."
      ],
      "metadata": {
        "id": "V22bRsFWp1cl"
      }
    },
    {
      "cell_type": "markdown",
      "source": [
        "##### 2. What is/are the insight(s) found from the chart?"
      ],
      "metadata": {
        "id": "2cELzS2fp1cl"
      }
    },
    {
      "cell_type": "markdown",
      "source": [
        "Answer Here"
      ],
      "metadata": {
        "id": "ozQPc2_Ip1cl"
      }
    },
    {
      "cell_type": "markdown",
      "source": [
        "##### 3. Will the gained insights help creating a positive business impact?\n",
        "Are there any insights that lead to negative growth? Justify with specific reason."
      ],
      "metadata": {
        "id": "3MPXvC8up1cl"
      }
    },
    {
      "cell_type": "markdown",
      "source": [
        "Answer Here"
      ],
      "metadata": {
        "id": "GL8l1tdLp1cl"
      }
    },
    {
      "cell_type": "markdown",
      "source": [
        "#### Chart - 14 - Correlation Heatmap"
      ],
      "metadata": {
        "id": "NC_X3p0fY2L0"
      }
    },
    {
      "cell_type": "code",
      "source": [
        "# Correlation Heatmap visualization code"
      ],
      "metadata": {
        "id": "xyC9zolEZNRQ"
      },
      "execution_count": null,
      "outputs": []
    },
    {
      "cell_type": "markdown",
      "source": [
        "##### 1. Why did you pick the specific chart?"
      ],
      "metadata": {
        "id": "UV0SzAkaZNRQ"
      }
    },
    {
      "cell_type": "markdown",
      "source": [
        "Answer Here."
      ],
      "metadata": {
        "id": "DVPuT8LYZNRQ"
      }
    },
    {
      "cell_type": "markdown",
      "source": [
        "##### 2. What is/are the insight(s) found from the chart?"
      ],
      "metadata": {
        "id": "YPEH6qLeZNRQ"
      }
    },
    {
      "cell_type": "markdown",
      "source": [
        "Answer Here"
      ],
      "metadata": {
        "id": "bfSqtnDqZNRR"
      }
    },
    {
      "cell_type": "markdown",
      "source": [
        "#### Chart - 15 - Pair Plot"
      ],
      "metadata": {
        "id": "q29F0dvdveiT"
      }
    },
    {
      "cell_type": "code",
      "source": [
        "# Pair Plot visualization code"
      ],
      "metadata": {
        "id": "o58-TEIhveiU"
      },
      "execution_count": null,
      "outputs": []
    },
    {
      "cell_type": "markdown",
      "source": [
        "##### 1. Why did you pick the specific chart?"
      ],
      "metadata": {
        "id": "EXh0U9oCveiU"
      }
    },
    {
      "cell_type": "markdown",
      "source": [
        "Answer Here."
      ],
      "metadata": {
        "id": "eMmPjTByveiU"
      }
    },
    {
      "cell_type": "markdown",
      "source": [
        "##### 2. What is/are the insight(s) found from the chart?"
      ],
      "metadata": {
        "id": "22aHeOlLveiV"
      }
    },
    {
      "cell_type": "markdown",
      "source": [
        "Answer Here"
      ],
      "metadata": {
        "id": "uPQ8RGwHveiV"
      }
    },
    {
      "cell_type": "markdown",
      "source": [
        "## ***5. Hypothesis Testing***"
      ],
      "metadata": {
        "id": "g-ATYxFrGrvw"
      }
    },
    {
      "cell_type": "markdown",
      "source": [
        "### Based on your chart experiments, define three hypothetical statements from the dataset. In the next three questions, perform hypothesis testing to obtain final conclusion about the statements through your code and statistical testing."
      ],
      "metadata": {
        "id": "Yfr_Vlr8HBkt"
      }
    },
    {
      "cell_type": "markdown",
      "source": [
        "Answer Here."
      ],
      "metadata": {
        "id": "-7MS06SUHkB-"
      }
    },
    {
      "cell_type": "markdown",
      "source": [
        "### Hypothetical Statement - 1"
      ],
      "metadata": {
        "id": "8yEUt7NnHlrM"
      }
    },
    {
      "cell_type": "markdown",
      "source": [
        "#### 1. State Your research hypothesis as a null hypothesis and alternate hypothesis."
      ],
      "metadata": {
        "id": "tEA2Xm5dHt1r"
      }
    },
    {
      "cell_type": "markdown",
      "source": [
        "Answer Here."
      ],
      "metadata": {
        "id": "HI9ZP0laH0D-"
      }
    },
    {
      "cell_type": "markdown",
      "source": [
        "#### 2. Perform an appropriate statistical test."
      ],
      "metadata": {
        "id": "I79__PHVH19G"
      }
    },
    {
      "cell_type": "code",
      "source": [
        "# Perform Statistical Test to obtain P-Value"
      ],
      "metadata": {
        "id": "oZrfquKtyian"
      },
      "execution_count": null,
      "outputs": []
    },
    {
      "cell_type": "markdown",
      "source": [
        "##### Which statistical test have you done to obtain P-Value?"
      ],
      "metadata": {
        "id": "Ou-I18pAyIpj"
      }
    },
    {
      "cell_type": "markdown",
      "source": [
        "Answer Here."
      ],
      "metadata": {
        "id": "s2U0kk00ygSB"
      }
    },
    {
      "cell_type": "markdown",
      "source": [
        "##### Why did you choose the specific statistical test?"
      ],
      "metadata": {
        "id": "fF3858GYyt-u"
      }
    },
    {
      "cell_type": "markdown",
      "source": [
        "Answer Here."
      ],
      "metadata": {
        "id": "HO4K0gP5y3B4"
      }
    },
    {
      "cell_type": "markdown",
      "source": [
        "### Hypothetical Statement - 2"
      ],
      "metadata": {
        "id": "4_0_7-oCpUZd"
      }
    },
    {
      "cell_type": "markdown",
      "source": [
        "#### 1. State Your research hypothesis as a null hypothesis and alternate hypothesis."
      ],
      "metadata": {
        "id": "hwyV_J3ipUZe"
      }
    },
    {
      "cell_type": "markdown",
      "source": [
        "Answer Here."
      ],
      "metadata": {
        "id": "FnpLGJ-4pUZe"
      }
    },
    {
      "cell_type": "markdown",
      "source": [
        "#### 2. Perform an appropriate statistical test."
      ],
      "metadata": {
        "id": "3yB-zSqbpUZe"
      }
    },
    {
      "cell_type": "code",
      "source": [
        "# Perform Statistical Test to obtain P-Value"
      ],
      "metadata": {
        "id": "sWxdNTXNpUZe"
      },
      "execution_count": null,
      "outputs": []
    },
    {
      "cell_type": "markdown",
      "source": [
        "##### Which statistical test have you done to obtain P-Value?"
      ],
      "metadata": {
        "id": "dEUvejAfpUZe"
      }
    },
    {
      "cell_type": "markdown",
      "source": [
        "Answer Here."
      ],
      "metadata": {
        "id": "oLDrPz7HpUZf"
      }
    },
    {
      "cell_type": "markdown",
      "source": [
        "##### Why did you choose the specific statistical test?"
      ],
      "metadata": {
        "id": "Fd15vwWVpUZf"
      }
    },
    {
      "cell_type": "markdown",
      "source": [
        "Answer Here."
      ],
      "metadata": {
        "id": "4xOGYyiBpUZf"
      }
    },
    {
      "cell_type": "markdown",
      "source": [
        "### Hypothetical Statement - 3"
      ],
      "metadata": {
        "id": "bn_IUdTipZyH"
      }
    },
    {
      "cell_type": "markdown",
      "source": [
        "#### 1. State Your research hypothesis as a null hypothesis and alternate hypothesis."
      ],
      "metadata": {
        "id": "49K5P_iCpZyH"
      }
    },
    {
      "cell_type": "markdown",
      "source": [
        "Answer Here."
      ],
      "metadata": {
        "id": "7gWI5rT9pZyH"
      }
    },
    {
      "cell_type": "markdown",
      "source": [
        "#### 2. Perform an appropriate statistical test."
      ],
      "metadata": {
        "id": "Nff-vKELpZyI"
      }
    },
    {
      "cell_type": "code",
      "source": [
        "# Perform Statistical Test to obtain P-Value"
      ],
      "metadata": {
        "id": "s6AnJQjtpZyI"
      },
      "execution_count": null,
      "outputs": []
    },
    {
      "cell_type": "markdown",
      "source": [
        "##### Which statistical test have you done to obtain P-Value?"
      ],
      "metadata": {
        "id": "kLW572S8pZyI"
      }
    },
    {
      "cell_type": "markdown",
      "source": [
        "Answer Here."
      ],
      "metadata": {
        "id": "ytWJ8v15pZyI"
      }
    },
    {
      "cell_type": "markdown",
      "source": [
        "##### Why did you choose the specific statistical test?"
      ],
      "metadata": {
        "id": "dWbDXHzopZyI"
      }
    },
    {
      "cell_type": "markdown",
      "source": [
        "Answer Here."
      ],
      "metadata": {
        "id": "M99G98V6pZyI"
      }
    },
    {
      "cell_type": "markdown",
      "source": [
        "## ***6. Feature Engineering & Data Pre-processing***"
      ],
      "metadata": {
        "id": "yLjJCtPM0KBk"
      }
    },
    {
      "cell_type": "markdown",
      "source": [
        "### 1. Handling Missing Values"
      ],
      "metadata": {
        "id": "xiyOF9F70UgQ"
      }
    },
    {
      "cell_type": "code",
      "source": [
        "# Handling Missing Values & Missing Value Imputation"
      ],
      "metadata": {
        "id": "iRsAHk1K0fpS"
      },
      "execution_count": null,
      "outputs": []
    },
    {
      "cell_type": "markdown",
      "source": [
        "#### What all missing value imputation techniques have you used and why did you use those techniques?"
      ],
      "metadata": {
        "id": "7wuGOrhz0itI"
      }
    },
    {
      "cell_type": "markdown",
      "source": [
        "Answer Here."
      ],
      "metadata": {
        "id": "1ixusLtI0pqI"
      }
    },
    {
      "cell_type": "markdown",
      "source": [
        "### 2. Handling Outliers"
      ],
      "metadata": {
        "id": "id1riN9m0vUs"
      }
    },
    {
      "cell_type": "code",
      "source": [
        "# Handling Outliers & Outlier treatments"
      ],
      "metadata": {
        "id": "M6w2CzZf04JK"
      },
      "execution_count": null,
      "outputs": []
    },
    {
      "cell_type": "markdown",
      "source": [
        "##### What all outlier treatment techniques have you used and why did you use those techniques?"
      ],
      "metadata": {
        "id": "578E2V7j08f6"
      }
    },
    {
      "cell_type": "markdown",
      "source": [
        "Answer Here."
      ],
      "metadata": {
        "id": "uGZz5OrT1HH-"
      }
    },
    {
      "cell_type": "markdown",
      "source": [
        "### 3. Categorical Encoding"
      ],
      "metadata": {
        "id": "89xtkJwZ18nB"
      }
    },
    {
      "cell_type": "code",
      "source": [
        "# Encode your categorical columns"
      ],
      "metadata": {
        "id": "21JmIYMG2hEo"
      },
      "execution_count": null,
      "outputs": []
    },
    {
      "cell_type": "markdown",
      "source": [
        "#### What all categorical encoding techniques have you used & why did you use those techniques?"
      ],
      "metadata": {
        "id": "67NQN5KX2AMe"
      }
    },
    {
      "cell_type": "markdown",
      "source": [
        "Answer Here."
      ],
      "metadata": {
        "id": "UDaue5h32n_G"
      }
    },
    {
      "cell_type": "markdown",
      "source": [
        "### 4. Textual Data Preprocessing\n",
        "(It's mandatory for textual dataset i.e., NLP, Sentiment Analysis, Text Clustering etc.)"
      ],
      "metadata": {
        "id": "Iwf50b-R2tYG"
      }
    },
    {
      "cell_type": "markdown",
      "source": [
        "#### 1. Expand Contraction"
      ],
      "metadata": {
        "id": "GMQiZwjn3iu7"
      }
    },
    {
      "cell_type": "code",
      "source": [
        "# Expand Contraction"
      ],
      "metadata": {
        "id": "PTouz10C3oNN"
      },
      "execution_count": null,
      "outputs": []
    },
    {
      "cell_type": "markdown",
      "source": [
        "#### 2. Lower Casing"
      ],
      "metadata": {
        "id": "WVIkgGqN3qsr"
      }
    },
    {
      "cell_type": "code",
      "source": [
        "# Lower Casing"
      ],
      "metadata": {
        "id": "88JnJ1jN3w7j"
      },
      "execution_count": null,
      "outputs": []
    },
    {
      "cell_type": "markdown",
      "source": [
        "#### 3. Removing Punctuations"
      ],
      "metadata": {
        "id": "XkPnILGE3zoT"
      }
    },
    {
      "cell_type": "code",
      "source": [
        "# Remove Punctuations"
      ],
      "metadata": {
        "id": "vqbBqNaA33c0"
      },
      "execution_count": null,
      "outputs": []
    },
    {
      "cell_type": "markdown",
      "source": [
        "#### 4. Removing URLs & Removing words and digits contain digits."
      ],
      "metadata": {
        "id": "Hlsf0x5436Go"
      }
    },
    {
      "cell_type": "code",
      "source": [
        "# Remove URLs & Remove words and digits contain digits"
      ],
      "metadata": {
        "id": "2sxKgKxu4Ip3"
      },
      "execution_count": null,
      "outputs": []
    },
    {
      "cell_type": "markdown",
      "source": [
        "#### 5. Removing Stopwords & Removing White spaces"
      ],
      "metadata": {
        "id": "mT9DMSJo4nBL"
      }
    },
    {
      "cell_type": "code",
      "source": [
        "# Remove Stopwords"
      ],
      "metadata": {
        "id": "T2LSJh154s8W"
      },
      "execution_count": null,
      "outputs": []
    },
    {
      "cell_type": "code",
      "source": [
        "# Remove White spaces"
      ],
      "metadata": {
        "id": "EgLJGffy4vm0"
      },
      "execution_count": null,
      "outputs": []
    },
    {
      "cell_type": "markdown",
      "source": [
        "#### 6. Rephrase Text"
      ],
      "metadata": {
        "id": "c49ITxTc407N"
      }
    },
    {
      "cell_type": "code",
      "source": [
        "# Rephrase Text"
      ],
      "metadata": {
        "id": "foqY80Qu48N2"
      },
      "execution_count": null,
      "outputs": []
    },
    {
      "cell_type": "markdown",
      "source": [
        "#### 7. Tokenization"
      ],
      "metadata": {
        "id": "OeJFEK0N496M"
      }
    },
    {
      "cell_type": "code",
      "source": [
        "# Tokenization"
      ],
      "metadata": {
        "id": "ijx1rUOS5CUU"
      },
      "execution_count": null,
      "outputs": []
    },
    {
      "cell_type": "markdown",
      "source": [
        "#### 8. Text Normalization"
      ],
      "metadata": {
        "id": "9ExmJH0g5HBk"
      }
    },
    {
      "cell_type": "code",
      "source": [
        "# Normalizing Text (i.e., Stemming, Lemmatization etc.)"
      ],
      "metadata": {
        "id": "AIJ1a-Zc5PY8"
      },
      "execution_count": null,
      "outputs": []
    },
    {
      "cell_type": "markdown",
      "source": [
        "##### Which text normalization technique have you used and why?"
      ],
      "metadata": {
        "id": "cJNqERVU536h"
      }
    },
    {
      "cell_type": "markdown",
      "source": [
        "Answer Here."
      ],
      "metadata": {
        "id": "Z9jKVxE06BC1"
      }
    },
    {
      "cell_type": "markdown",
      "source": [
        "#### 9. Part of speech tagging"
      ],
      "metadata": {
        "id": "k5UmGsbsOxih"
      }
    },
    {
      "cell_type": "code",
      "source": [
        "# POS Taging"
      ],
      "metadata": {
        "id": "btT3ZJBAO6Ik"
      },
      "execution_count": null,
      "outputs": []
    },
    {
      "cell_type": "markdown",
      "source": [
        "#### 10. Text Vectorization"
      ],
      "metadata": {
        "id": "T0VqWOYE6DLQ"
      }
    },
    {
      "cell_type": "code",
      "source": [
        "# Vectorizing Text"
      ],
      "metadata": {
        "id": "yBRtdhth6JDE"
      },
      "execution_count": null,
      "outputs": []
    },
    {
      "cell_type": "markdown",
      "source": [
        "##### Which text vectorization technique have you used and why?"
      ],
      "metadata": {
        "id": "qBMux9mC6MCf"
      }
    },
    {
      "cell_type": "markdown",
      "source": [
        "Answer Here."
      ],
      "metadata": {
        "id": "su2EnbCh6UKQ"
      }
    },
    {
      "cell_type": "markdown",
      "source": [
        "### 4. Feature Manipulation & Selection"
      ],
      "metadata": {
        "id": "-oLEiFgy-5Pf"
      }
    },
    {
      "cell_type": "markdown",
      "source": [
        "#### 1. Feature Manipulation"
      ],
      "metadata": {
        "id": "C74aWNz2AliB"
      }
    },
    {
      "cell_type": "code",
      "source": [
        "# Manipulate Features to minimize feature correlation and create new features"
      ],
      "metadata": {
        "id": "h1qC4yhBApWC"
      },
      "execution_count": null,
      "outputs": []
    },
    {
      "cell_type": "markdown",
      "source": [
        "#### 2. Feature Selection"
      ],
      "metadata": {
        "id": "2DejudWSA-a0"
      }
    },
    {
      "cell_type": "code",
      "source": [
        "# Select your features wisely to avoid overfitting"
      ],
      "metadata": {
        "id": "YLhe8UmaBCEE"
      },
      "execution_count": null,
      "outputs": []
    },
    {
      "cell_type": "markdown",
      "source": [
        "##### What all feature selection methods have you used  and why?"
      ],
      "metadata": {
        "id": "pEMng2IbBLp7"
      }
    },
    {
      "cell_type": "markdown",
      "source": [
        "Answer Here."
      ],
      "metadata": {
        "id": "rb2Lh6Z8BgGs"
      }
    },
    {
      "cell_type": "markdown",
      "source": [
        "##### Which all features you found important and why?"
      ],
      "metadata": {
        "id": "rAdphbQ9Bhjc"
      }
    },
    {
      "cell_type": "markdown",
      "source": [
        "Answer Here."
      ],
      "metadata": {
        "id": "fGgaEstsBnaf"
      }
    },
    {
      "cell_type": "markdown",
      "source": [
        "### 5. Data Transformation"
      ],
      "metadata": {
        "id": "TNVZ9zx19K6k"
      }
    },
    {
      "cell_type": "markdown",
      "source": [
        "#### Do you think that your data needs to be transformed? If yes, which transformation have you used. Explain Why?"
      ],
      "metadata": {
        "id": "nqoHp30x9hH9"
      }
    },
    {
      "cell_type": "code",
      "source": [
        "# Transform Your data"
      ],
      "metadata": {
        "id": "I6quWQ1T9rtH"
      },
      "execution_count": null,
      "outputs": []
    },
    {
      "cell_type": "markdown",
      "source": [
        "### 6. Data Scaling"
      ],
      "metadata": {
        "id": "rMDnDkt2B6du"
      }
    },
    {
      "cell_type": "code",
      "source": [
        "# Scaling your data"
      ],
      "metadata": {
        "id": "dL9LWpySC6x_"
      },
      "execution_count": null,
      "outputs": []
    },
    {
      "cell_type": "markdown",
      "source": [
        "##### Which method have you used to scale you data and why?"
      ],
      "metadata": {
        "id": "yiiVWRdJDDil"
      }
    },
    {
      "cell_type": "markdown",
      "source": [
        "### 7. Dimesionality Reduction"
      ],
      "metadata": {
        "id": "1UUpS68QDMuG"
      }
    },
    {
      "cell_type": "markdown",
      "source": [
        "##### Do you think that dimensionality reduction is needed? Explain Why?"
      ],
      "metadata": {
        "id": "kexQrXU-DjzY"
      }
    },
    {
      "cell_type": "markdown",
      "source": [
        "Answer Here."
      ],
      "metadata": {
        "id": "GGRlBsSGDtTQ"
      }
    },
    {
      "cell_type": "code",
      "source": [
        "# DImensionality Reduction (If needed)"
      ],
      "metadata": {
        "id": "kQfvxBBHDvCa"
      },
      "execution_count": null,
      "outputs": []
    },
    {
      "cell_type": "markdown",
      "source": [
        "##### Which dimensionality reduction technique have you used and why? (If dimensionality reduction done on dataset.)"
      ],
      "metadata": {
        "id": "T5CmagL3EC8N"
      }
    },
    {
      "cell_type": "markdown",
      "source": [
        "Answer Here."
      ],
      "metadata": {
        "id": "ZKr75IDuEM7t"
      }
    },
    {
      "cell_type": "markdown",
      "source": [
        "### 8. Data Splitting"
      ],
      "metadata": {
        "id": "BhH2vgX9EjGr"
      }
    },
    {
      "cell_type": "code",
      "source": [
        "# Split your data to train and test. Choose Splitting ratio wisely."
      ],
      "metadata": {
        "id": "0CTyd2UwEyNM"
      },
      "execution_count": null,
      "outputs": []
    },
    {
      "cell_type": "markdown",
      "source": [
        "##### What data splitting ratio have you used and why?"
      ],
      "metadata": {
        "id": "qjKvONjwE8ra"
      }
    },
    {
      "cell_type": "markdown",
      "source": [
        "Answer Here."
      ],
      "metadata": {
        "id": "Y2lJ8cobFDb_"
      }
    },
    {
      "cell_type": "markdown",
      "source": [
        "### 9. Handling Imbalanced Dataset"
      ],
      "metadata": {
        "id": "P1XJ9OREExlT"
      }
    },
    {
      "cell_type": "markdown",
      "source": [
        "##### Do you think the dataset is imbalanced? Explain Why."
      ],
      "metadata": {
        "id": "VFOzZv6IFROw"
      }
    },
    {
      "cell_type": "markdown",
      "source": [
        "Answer Here."
      ],
      "metadata": {
        "id": "GeKDIv7pFgcC"
      }
    },
    {
      "cell_type": "code",
      "source": [
        "# Handling Imbalanced Dataset (If needed)"
      ],
      "metadata": {
        "id": "nQsRhhZLFiDs"
      },
      "execution_count": null,
      "outputs": []
    },
    {
      "cell_type": "markdown",
      "source": [
        "##### What technique did you use to handle the imbalance dataset and why? (If needed to be balanced)"
      ],
      "metadata": {
        "id": "TIqpNgepFxVj"
      }
    },
    {
      "cell_type": "markdown",
      "source": [
        "Answer Here."
      ],
      "metadata": {
        "id": "qbet1HwdGDTz"
      }
    },
    {
      "cell_type": "markdown",
      "source": [
        "## ***7. ML Model Implementation***"
      ],
      "metadata": {
        "id": "VfCC591jGiD4"
      }
    },
    {
      "cell_type": "markdown",
      "source": [
        "### ML Model - 1"
      ],
      "metadata": {
        "id": "OB4l2ZhMeS1U"
      }
    },
    {
      "cell_type": "code",
      "source": [
        "# ML Model - 1 Implementation\n",
        "\n",
        "# Fit the Algorithm\n",
        "\n",
        "# Predict on the model"
      ],
      "metadata": {
        "id": "7ebyywQieS1U"
      },
      "execution_count": null,
      "outputs": []
    },
    {
      "cell_type": "markdown",
      "source": [
        "#### 1. Explain the ML Model used and it's performance using Evaluation metric Score Chart."
      ],
      "metadata": {
        "id": "ArJBuiUVfxKd"
      }
    },
    {
      "cell_type": "code",
      "source": [
        "# Visualizing evaluation Metric Score chart"
      ],
      "metadata": {
        "id": "rqD5ZohzfxKe"
      },
      "execution_count": null,
      "outputs": []
    },
    {
      "cell_type": "markdown",
      "source": [
        "#### 2. Cross- Validation & Hyperparameter Tuning"
      ],
      "metadata": {
        "id": "4qY1EAkEfxKe"
      }
    },
    {
      "cell_type": "code",
      "source": [
        "# ML Model - 1 Implementation with hyperparameter optimization techniques (i.e., GridSearch CV, RandomSearch CV, Bayesian Optimization etc.)\n",
        "\n",
        "# Fit the Algorithm\n",
        "\n",
        "# Predict on the model"
      ],
      "metadata": {
        "id": "Dy61ujd6fxKe"
      },
      "execution_count": null,
      "outputs": []
    },
    {
      "cell_type": "markdown",
      "source": [
        "##### Which hyperparameter optimization technique have you used and why?"
      ],
      "metadata": {
        "id": "PiV4Ypx8fxKe"
      }
    },
    {
      "cell_type": "markdown",
      "source": [
        "Answer Here."
      ],
      "metadata": {
        "id": "negyGRa7fxKf"
      }
    },
    {
      "cell_type": "markdown",
      "source": [
        "##### Have you seen any improvement? Note down the improvement with updates Evaluation metric Score Chart."
      ],
      "metadata": {
        "id": "TfvqoZmBfxKf"
      }
    },
    {
      "cell_type": "markdown",
      "source": [
        "Answer Here."
      ],
      "metadata": {
        "id": "OaLui8CcfxKf"
      }
    },
    {
      "cell_type": "markdown",
      "source": [
        "### ML Model - 2"
      ],
      "metadata": {
        "id": "dJ2tPlVmpsJ0"
      }
    },
    {
      "cell_type": "markdown",
      "source": [
        "#### 1. Explain the ML Model used and it's performance using Evaluation metric Score Chart."
      ],
      "metadata": {
        "id": "JWYfwnehpsJ1"
      }
    },
    {
      "cell_type": "code",
      "source": [
        "# Visualizing evaluation Metric Score chart"
      ],
      "metadata": {
        "id": "yEl-hgQWpsJ1"
      },
      "execution_count": null,
      "outputs": []
    },
    {
      "cell_type": "markdown",
      "source": [
        "#### 2. Cross- Validation & Hyperparameter Tuning"
      ],
      "metadata": {
        "id": "-jK_YjpMpsJ2"
      }
    },
    {
      "cell_type": "code",
      "source": [
        "# ML Model - 1 Implementation with hyperparameter optimization techniques (i.e., GridSearch CV, RandomSearch CV, Bayesian Optimization etc.)\n",
        "\n",
        "# Fit the Algorithm\n",
        "\n",
        "# Predict on the model"
      ],
      "metadata": {
        "id": "Dn0EOfS6psJ2"
      },
      "execution_count": null,
      "outputs": []
    },
    {
      "cell_type": "markdown",
      "source": [
        "##### Which hyperparameter optimization technique have you used and why?"
      ],
      "metadata": {
        "id": "HAih1iBOpsJ2"
      }
    },
    {
      "cell_type": "markdown",
      "source": [
        "Answer Here."
      ],
      "metadata": {
        "id": "9kBgjYcdpsJ2"
      }
    },
    {
      "cell_type": "markdown",
      "source": [
        "##### Have you seen any improvement? Note down the improvement with updates Evaluation metric Score Chart."
      ],
      "metadata": {
        "id": "zVGeBEFhpsJ2"
      }
    },
    {
      "cell_type": "markdown",
      "source": [
        "Answer Here."
      ],
      "metadata": {
        "id": "74yRdG6UpsJ3"
      }
    },
    {
      "cell_type": "markdown",
      "source": [
        "#### 3. Explain each evaluation metric's indication towards business and the business impact pf the ML model used."
      ],
      "metadata": {
        "id": "bmKjuQ-FpsJ3"
      }
    },
    {
      "cell_type": "markdown",
      "source": [
        "Answer Here."
      ],
      "metadata": {
        "id": "BDKtOrBQpsJ3"
      }
    },
    {
      "cell_type": "markdown",
      "source": [
        "### ML Model - 3"
      ],
      "metadata": {
        "id": "Fze-IPXLpx6K"
      }
    },
    {
      "cell_type": "code",
      "source": [
        "# ML Model - 3 Implementation\n",
        "\n",
        "# Fit the Algorithm\n",
        "\n",
        "# Predict on the model"
      ],
      "metadata": {
        "id": "FFrSXAtrpx6M"
      },
      "execution_count": null,
      "outputs": []
    },
    {
      "cell_type": "markdown",
      "source": [
        "#### 1. Explain the ML Model used and it's performance using Evaluation metric Score Chart."
      ],
      "metadata": {
        "id": "7AN1z2sKpx6M"
      }
    },
    {
      "cell_type": "code",
      "source": [
        "# Visualizing evaluation Metric Score chart"
      ],
      "metadata": {
        "id": "xIY4lxxGpx6M"
      },
      "execution_count": null,
      "outputs": []
    },
    {
      "cell_type": "markdown",
      "source": [
        "#### 2. Cross- Validation & Hyperparameter Tuning"
      ],
      "metadata": {
        "id": "9PIHJqyupx6M"
      }
    },
    {
      "cell_type": "code",
      "source": [
        "# ML Model - 3 Implementation with hyperparameter optimization techniques (i.e., GridSearch CV, RandomSearch CV, Bayesian Optimization etc.)\n",
        "\n",
        "# Fit the Algorithm\n",
        "\n",
        "# Predict on the model"
      ],
      "metadata": {
        "id": "eSVXuaSKpx6M"
      },
      "execution_count": null,
      "outputs": []
    },
    {
      "cell_type": "markdown",
      "source": [
        "##### Which hyperparameter optimization technique have you used and why?"
      ],
      "metadata": {
        "id": "_-qAgymDpx6N"
      }
    },
    {
      "cell_type": "markdown",
      "source": [
        "Answer Here."
      ],
      "metadata": {
        "id": "lQMffxkwpx6N"
      }
    },
    {
      "cell_type": "markdown",
      "source": [
        "##### Have you seen any improvement? Note down the improvement with updates Evaluation metric Score Chart."
      ],
      "metadata": {
        "id": "Z-hykwinpx6N"
      }
    },
    {
      "cell_type": "markdown",
      "source": [
        "Answer Here."
      ],
      "metadata": {
        "id": "MzVzZC6opx6N"
      }
    },
    {
      "cell_type": "markdown",
      "source": [
        "### 1. Which Evaluation metrics did you consider for a positive business impact and why?"
      ],
      "metadata": {
        "id": "h_CCil-SKHpo"
      }
    },
    {
      "cell_type": "markdown",
      "source": [
        "Answer Here."
      ],
      "metadata": {
        "id": "jHVz9hHDKFms"
      }
    },
    {
      "cell_type": "markdown",
      "source": [
        "### 2. Which ML model did you choose from the above created models as your final prediction model and why?"
      ],
      "metadata": {
        "id": "cBFFvTBNJzUa"
      }
    },
    {
      "cell_type": "markdown",
      "source": [
        "Answer Here."
      ],
      "metadata": {
        "id": "6ksF5Q1LKTVm"
      }
    },
    {
      "cell_type": "markdown",
      "source": [
        "### 3. Explain the model which you have used and the feature importance using any model explainability tool?"
      ],
      "metadata": {
        "id": "HvGl1hHyA_VK"
      }
    },
    {
      "cell_type": "markdown",
      "source": [
        "Answer Here."
      ],
      "metadata": {
        "id": "YnvVTiIxBL-C"
      }
    },
    {
      "cell_type": "markdown",
      "source": [
        "## ***8.*** ***Future Work (Optional)***"
      ],
      "metadata": {
        "id": "EyNgTHvd2WFk"
      }
    },
    {
      "cell_type": "markdown",
      "source": [
        "### 1. Save the best performing ml model in a pickle file or joblib file format for deployment process.\n"
      ],
      "metadata": {
        "id": "KH5McJBi2d8v"
      }
    },
    {
      "cell_type": "code",
      "source": [
        "# Save the File"
      ],
      "metadata": {
        "id": "bQIANRl32f4J"
      },
      "execution_count": null,
      "outputs": []
    },
    {
      "cell_type": "markdown",
      "source": [
        "### 2. Again Load the saved model file and try to predict unseen data for a sanity check.\n"
      ],
      "metadata": {
        "id": "iW_Lq9qf2h6X"
      }
    },
    {
      "cell_type": "code",
      "source": [
        "# Load the File and predict unseen data."
      ],
      "metadata": {
        "id": "oEXk9ydD2nVC"
      },
      "execution_count": null,
      "outputs": []
    },
    {
      "cell_type": "markdown",
      "source": [
        "### ***Congrats! Your model is successfully created and ready for deployment on a live server for a real user interaction !!!***"
      ],
      "metadata": {
        "id": "-Kee-DAl2viO"
      }
    },
    {
      "cell_type": "markdown",
      "source": [
        "# **Conclusion**"
      ],
      "metadata": {
        "id": "gCX9965dhzqZ"
      }
    },
    {
      "cell_type": "markdown",
      "source": [
        "Write the conclusion here."
      ],
      "metadata": {
        "id": "Fjb1IsQkh3yE"
      }
    },
    {
      "cell_type": "markdown",
      "source": [
        "### ***Hurrah! You have successfully completed your Machine Learning Capstone Project !!!***"
      ],
      "metadata": {
        "id": "gIfDvo9L0UH2"
      }
    }
  ]
}